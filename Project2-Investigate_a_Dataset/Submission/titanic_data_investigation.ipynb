{
 "cells": [
  {
   "cell_type": "markdown",
   "metadata": {},
   "source": [
    "## Titanic Data Investigation: what sorts of people were more likely to survive?"
   ]
  },
  {
   "cell_type": "markdown",
   "metadata": {},
   "source": [
    "### 1. Introduction"
   ]
  },
  {
   "cell_type": "markdown",
   "metadata": {},
   "source": [
    "In this project, we will investigate \"Titanic Data\", which contains demographics and passenger information from sample passengers and crew on board the Titanic. The dataset and its decription could be found at the following website address: https://www.kaggle.com/c/titanic/data.\n",
    "\n",
    "Basically, each observation in the dataset shows the information of a person aboard and if the person survived in the accident. We will analyze some of the personal information in detail to see if people with some characteristics were more likely to survive.\n",
    "\n",
    "Questions I will study within this project are listed below:\n",
    "- Question 1: Were people in higher passenger class more likely to survive?\n",
    "- Question 2: Were female people more likely to survive?\n",
    "- Question 3: How different distributed were the ages of people who survived from people who did not survive?"
   ]
  },
  {
   "cell_type": "markdown",
   "metadata": {},
   "source": [
    "### 2. Data Exploration"
   ]
  },
  {
   "cell_type": "markdown",
   "metadata": {},
   "source": [
    "#### 2.0. Data Wrangling"
   ]
  },
  {
   "cell_type": "markdown",
   "metadata": {},
   "source": [
    "We first read the data we need into a pandas dataframe and have a brief data overview.\n",
    "\n",
    "For convenience, sex of \"male\" is denoted by 1 and sex of \"female\" is denoted by 0."
   ]
  },
  {
   "cell_type": "code",
   "execution_count": 1,
   "metadata": {
    "collapsed": false
   },
   "outputs": [
    {
     "name": "stdout",
     "output_type": "stream",
     "text": [
      "Sample observations amount: 891\n",
      "Description of sample observations:\n"
     ]
    },
    {
     "data": {
      "text/html": [
       "<div>\n",
       "<table border=\"1\" class=\"dataframe\">\n",
       "  <thead>\n",
       "    <tr style=\"text-align: right;\">\n",
       "      <th></th>\n",
       "      <th>Survived</th>\n",
       "      <th>Pclass</th>\n",
       "      <th>Sex</th>\n",
       "      <th>Age</th>\n",
       "    </tr>\n",
       "  </thead>\n",
       "  <tbody>\n",
       "    <tr>\n",
       "      <th>count</th>\n",
       "      <td>891.000000</td>\n",
       "      <td>891.000000</td>\n",
       "      <td>891.000000</td>\n",
       "      <td>714.000000</td>\n",
       "    </tr>\n",
       "    <tr>\n",
       "      <th>mean</th>\n",
       "      <td>0.383838</td>\n",
       "      <td>2.308642</td>\n",
       "      <td>0.647587</td>\n",
       "      <td>29.699118</td>\n",
       "    </tr>\n",
       "    <tr>\n",
       "      <th>std</th>\n",
       "      <td>0.486592</td>\n",
       "      <td>0.836071</td>\n",
       "      <td>0.477990</td>\n",
       "      <td>14.526497</td>\n",
       "    </tr>\n",
       "    <tr>\n",
       "      <th>min</th>\n",
       "      <td>0.000000</td>\n",
       "      <td>1.000000</td>\n",
       "      <td>0.000000</td>\n",
       "      <td>0.420000</td>\n",
       "    </tr>\n",
       "    <tr>\n",
       "      <th>25%</th>\n",
       "      <td>0.000000</td>\n",
       "      <td>2.000000</td>\n",
       "      <td>0.000000</td>\n",
       "      <td>20.125000</td>\n",
       "    </tr>\n",
       "    <tr>\n",
       "      <th>50%</th>\n",
       "      <td>0.000000</td>\n",
       "      <td>3.000000</td>\n",
       "      <td>1.000000</td>\n",
       "      <td>28.000000</td>\n",
       "    </tr>\n",
       "    <tr>\n",
       "      <th>75%</th>\n",
       "      <td>1.000000</td>\n",
       "      <td>3.000000</td>\n",
       "      <td>1.000000</td>\n",
       "      <td>38.000000</td>\n",
       "    </tr>\n",
       "    <tr>\n",
       "      <th>max</th>\n",
       "      <td>1.000000</td>\n",
       "      <td>3.000000</td>\n",
       "      <td>1.000000</td>\n",
       "      <td>80.000000</td>\n",
       "    </tr>\n",
       "  </tbody>\n",
       "</table>\n",
       "</div>"
      ],
      "text/plain": [
       "         Survived      Pclass         Sex         Age\n",
       "count  891.000000  891.000000  891.000000  714.000000\n",
       "mean     0.383838    2.308642    0.647587   29.699118\n",
       "std      0.486592    0.836071    0.477990   14.526497\n",
       "min      0.000000    1.000000    0.000000    0.420000\n",
       "25%      0.000000    2.000000    0.000000   20.125000\n",
       "50%      0.000000    3.000000    1.000000   28.000000\n",
       "75%      1.000000    3.000000    1.000000   38.000000\n",
       "max      1.000000    3.000000    1.000000   80.000000"
      ]
     },
     "execution_count": 1,
     "metadata": {},
     "output_type": "execute_result"
    }
   ],
   "source": [
    "import pandas as pd\n",
    "df = pd.read_csv(\"titanic_data.csv\")[['Survived', 'Pclass', 'Sex', 'Age']]\n",
    "\n",
    "## use 1 to denote male and 0 to denote female\n",
    "df['Sex'] = df['Sex'].map({'male': 1, 'female': 0})\n",
    "\n",
    "print \"Sample observations amount: \" + str(len(df))\n",
    "print \"Description of sample observations:\"\n",
    "df.describe()"
   ]
  },
  {
   "cell_type": "markdown",
   "metadata": {},
   "source": [
    "Here we have created a pandas dataframe called \"df\" to save the information of if a person survived and the person's passenger class, sex, and age.\n",
    "\n",
    "However, it shows that for some people, their age information is missing. Therefore we will create a new pandas dataframe for our Question 3, which is to study the age difference between people who survived and who did not survive. The new dataframe is called \"df_age\"."
   ]
  },
  {
   "cell_type": "code",
   "execution_count": 2,
   "metadata": {
    "collapsed": false
   },
   "outputs": [
    {
     "name": "stdout",
     "output_type": "stream",
     "text": [
      "Description of sample observations with age values:\n"
     ]
    },
    {
     "data": {
      "text/html": [
       "<div>\n",
       "<table border=\"1\" class=\"dataframe\">\n",
       "  <thead>\n",
       "    <tr style=\"text-align: right;\">\n",
       "      <th></th>\n",
       "      <th>Survived</th>\n",
       "      <th>Pclass</th>\n",
       "      <th>Sex</th>\n",
       "      <th>Age</th>\n",
       "    </tr>\n",
       "  </thead>\n",
       "  <tbody>\n",
       "    <tr>\n",
       "      <th>count</th>\n",
       "      <td>714.000000</td>\n",
       "      <td>714.000000</td>\n",
       "      <td>714.000000</td>\n",
       "      <td>714.000000</td>\n",
       "    </tr>\n",
       "    <tr>\n",
       "      <th>mean</th>\n",
       "      <td>0.406162</td>\n",
       "      <td>2.236695</td>\n",
       "      <td>0.634454</td>\n",
       "      <td>29.699118</td>\n",
       "    </tr>\n",
       "    <tr>\n",
       "      <th>std</th>\n",
       "      <td>0.491460</td>\n",
       "      <td>0.838250</td>\n",
       "      <td>0.481921</td>\n",
       "      <td>14.526497</td>\n",
       "    </tr>\n",
       "    <tr>\n",
       "      <th>min</th>\n",
       "      <td>0.000000</td>\n",
       "      <td>1.000000</td>\n",
       "      <td>0.000000</td>\n",
       "      <td>0.420000</td>\n",
       "    </tr>\n",
       "    <tr>\n",
       "      <th>25%</th>\n",
       "      <td>0.000000</td>\n",
       "      <td>1.000000</td>\n",
       "      <td>0.000000</td>\n",
       "      <td>20.125000</td>\n",
       "    </tr>\n",
       "    <tr>\n",
       "      <th>50%</th>\n",
       "      <td>0.000000</td>\n",
       "      <td>2.000000</td>\n",
       "      <td>1.000000</td>\n",
       "      <td>28.000000</td>\n",
       "    </tr>\n",
       "    <tr>\n",
       "      <th>75%</th>\n",
       "      <td>1.000000</td>\n",
       "      <td>3.000000</td>\n",
       "      <td>1.000000</td>\n",
       "      <td>38.000000</td>\n",
       "    </tr>\n",
       "    <tr>\n",
       "      <th>max</th>\n",
       "      <td>1.000000</td>\n",
       "      <td>3.000000</td>\n",
       "      <td>1.000000</td>\n",
       "      <td>80.000000</td>\n",
       "    </tr>\n",
       "  </tbody>\n",
       "</table>\n",
       "</div>"
      ],
      "text/plain": [
       "         Survived      Pclass         Sex         Age\n",
       "count  714.000000  714.000000  714.000000  714.000000\n",
       "mean     0.406162    2.236695    0.634454   29.699118\n",
       "std      0.491460    0.838250    0.481921   14.526497\n",
       "min      0.000000    1.000000    0.000000    0.420000\n",
       "25%      0.000000    1.000000    0.000000   20.125000\n",
       "50%      0.000000    2.000000    1.000000   28.000000\n",
       "75%      1.000000    3.000000    1.000000   38.000000\n",
       "max      1.000000    3.000000    1.000000   80.000000"
      ]
     },
     "execution_count": 2,
     "metadata": {},
     "output_type": "execute_result"
    }
   ],
   "source": [
    "df_age = df.dropna()\n",
    "print \"Description of sample observations with age values:\"\n",
    "df_age.describe()"
   ]
  },
  {
   "cell_type": "markdown",
   "metadata": {},
   "source": [
    "#### 2.1. Exploration: survival status and passenger class"
   ]
  },
  {
   "cell_type": "markdown",
   "metadata": {},
   "source": [
    "We first look into our dependent variable \"Survived\". We can make a barplot as below."
   ]
  },
  {
   "cell_type": "code",
   "execution_count": 3,
   "metadata": {
    "collapsed": false
   },
   "outputs": [
    {
     "name": "stdout",
     "output_type": "stream",
     "text": [
      "Amount of people survived: 342\n",
      "Amount of people not survived: 549\n"
     ]
    },
    {
     "data": {
      "text/plain": [
       "([<matplotlib.axis.XTick at 0x116f52350>,\n",
       "  <matplotlib.axis.XTick at 0x116f527d0>],\n",
       " <a list of 2 Text xticklabel objects>)"
      ]
     },
     "execution_count": 3,
     "metadata": {},
     "output_type": "execute_result"
    },
    {
     "data": {
      "image/png": "[encoded data removed]",
      "text/plain": [
       "<matplotlib.figure.Figure at 0x116e6d410>"
      ]
     },
     "metadata": {},
     "output_type": "display_data"
    }
   ],
   "source": [
    "import matplotlib.pyplot as plt\n",
    "import seaborn as sns\n",
    "%matplotlib inline\n",
    "print \"Amount of people survived: \" + str(sum(df['Survived'] == 1))\n",
    "print \"Amount of people not survived: \" + str(sum(df['Survived'] == 0))\n",
    "survival_by_status = df.groupby('Survived').size().reset_index()\n",
    "sns.barplot(data = survival_by_status, x = 'Survived', y = 0)\n",
    "plt.ylabel('People Counts')\n",
    "plt.title('People survived or not')\n",
    "plt.xticks([0, 1], ['Not Survived', 'Survived'])"
   ]
  },
  {
   "cell_type": "markdown",
   "metadata": {},
   "source": [
    "In the sample, 342 people survived and 549 people did not survive. Clearly, more people in the sample did not survive in the accident."
   ]
  },
  {
   "cell_type": "markdown",
   "metadata": {},
   "source": [
    "We then look into the dependent variable \"Pclass\". We can make a histogram as below."
   ]
  },
  {
   "cell_type": "code",
   "execution_count": 4,
   "metadata": {
    "collapsed": false
   },
   "outputs": [
    {
     "name": "stdout",
     "output_type": "stream",
     "text": [
      "Amount of people in 1st class: 216\n",
      "Amount of people in 2nd class: 184\n",
      "Amount of people in 3rd class: 491\n"
     ]
    },
    {
     "data": {
      "text/plain": [
       "([<matplotlib.axis.XTick at 0x11995cb50>,\n",
       "  <matplotlib.axis.XTick at 0x11942c850>,\n",
       "  <matplotlib.axis.XTick at 0x1199cadd0>],\n",
       " <a list of 3 Text xticklabel objects>)"
      ]
     },
     "execution_count": 4,
     "metadata": {},
     "output_type": "execute_result"
    },
    {
     "data": {
      "image/png": "[encoded data removed]",
      "text/plain": [
       "<matplotlib.figure.Figure at 0x1113633d0>"
      ]
     },
     "metadata": {},
     "output_type": "display_data"
    }
   ],
   "source": [
    "print \"Amount of people in 1st class: \" + str(sum(df['Pclass'] == 1))\n",
    "print \"Amount of people in 2nd class: \" + str(sum(df['Pclass'] == 2))\n",
    "print \"Amount of people in 3rd class: \" + str(sum(df['Pclass'] == 3))\n",
    "people_by_class = df.groupby('Pclass').size().reset_index()\n",
    "sns.barplot(data = people_by_class, x = 'Pclass', y = 0)\n",
    "plt.ylabel('People Counts')\n",
    "plt.xlabel('')\n",
    "plt.title('People in each class')\n",
    "plt.xticks([0, 1, 2], ['1st Class', '2nd Class', '3rd Class'])"
   ]
  },
  {
   "cell_type": "markdown",
   "metadata": {},
   "source": [
    "In the sample, 216 people were in 1st class, 184 people were in 2nd class, and 491 people were in 3rd class. It seems that most people were in 3rd class. The number of people in 1st class is a little bit more than people in 2nd class."
   ]
  },
  {
   "cell_type": "markdown",
   "metadata": {},
   "source": [
    "To study the survival rate in each passenger class, we can group people by passenger class and calculate the survival rate in each class."
   ]
  },
  {
   "cell_type": "code",
   "execution_count": 5,
   "metadata": {
    "collapsed": false
   },
   "outputs": [
    {
     "name": "stdout",
     "output_type": "stream",
     "text": [
      "Pclass\n",
      "1    0.629630\n",
      "2    0.472826\n",
      "3    0.242363\n",
      "Name: Survived, dtype: float64\n"
     ]
    }
   ],
   "source": [
    "survival_by_class = df['Survived'].groupby(df['Pclass']).mean()\n",
    "print survival_by_class"
   ]
  },
  {
   "cell_type": "markdown",
   "metadata": {},
   "source": [
    "It shows that 1st class had a survival rate around 63%, 2nd class had a survival rate around 47%, and 3rd class had a survival rate merely around 24%. It seems that people in higher classes were more likely to survive."
   ]
  },
  {
   "cell_type": "markdown",
   "metadata": {},
   "source": [
    "We can better see this phenomenon by plotting the survival rate of each class as below."
   ]
  },
  {
   "cell_type": "code",
   "execution_count": 6,
   "metadata": {
    "collapsed": false
   },
   "outputs": [
    {
     "data": {
      "text/plain": [
       "([<matplotlib.axis.XTick at 0x119a30590>,\n",
       "  <matplotlib.axis.XTick at 0x116f52850>,\n",
       "  <matplotlib.axis.XTick at 0x119afa050>],\n",
       " <a list of 3 Text xticklabel objects>)"
      ]
     },
     "execution_count": 6,
     "metadata": {},
     "output_type": "execute_result"
    },
    {
     "data": {
      "image/png": "[encoded data removed]",
      "text/plain": [
       "<matplotlib.figure.Figure at 0x11995cdd0>"
      ]
     },
     "metadata": {},
     "output_type": "display_data"
    }
   ],
   "source": [
    "df1 = pd.DataFrame({'Class': [1, 2, 3], 'Survived': survival_by_class})\n",
    "df2 = pd.DataFrame({'Class': [1, 2, 3], 'Not Survived': 1 - survival_by_class})\n",
    "frames = df1.merge(df2, how=\"left\")\n",
    "frames[['Survived', 'Not Survived']].plot(kind='bar', stacked=True).legend(bbox_to_anchor=(1.3, 1))\n",
    "plt.ylabel('Percentage')\n",
    "plt.title('Survival rate of each class')\n",
    "plt.xticks([0, 1, 2], ['1st Class', '2nd Class', '3rd Class'])"
   ]
  },
  {
   "cell_type": "markdown",
   "metadata": {},
   "source": [
    "To further check if higher class had higher survival rate, we can make some hypothesis tests. Assume people's survival status in 1st class is of Bernoulli distribution, with parameter p_1. In other words, a person in 1st class had possibility of p_1 to survive and (1 - p_1) to not survive. Then we can have the following one-tailed hypothesis:\n",
    "\n",
    "H<sub>0</sub>: p_1 <= 0.5\n",
    "\n",
    "H<sub>1</sub>: p_1 > 0.5\n",
    "\n",
    "Since the sample size is large, so the total number of survival people in 1st class is approximately normally distributed with mean (n_1 \\* p_1) and standard deviation sqrt(n_1 \\* p_1 \\* (1-p_1)), where n_1 is the sample size.\n",
    "\n",
    "Suppose Y_1 is the actual number of survival people in 1st class, then we can calculate our test statistic (Y_1 - n_1 \\* 0.5)/sqrt(n_1 \\* 0.5 \\* (1-0.5)):"
   ]
  },
  {
   "cell_type": "code",
   "execution_count": 7,
   "metadata": {
    "collapsed": false
   },
   "outputs": [
    {
     "name": "stdout",
     "output_type": "stream",
     "text": [
      "test statistic is: 3.81031737766\n"
     ]
    }
   ],
   "source": [
    "import math\n",
    "class_1 = df['Survived'][df['Pclass']==1]\n",
    "p1_stat = (class_1.sum() - len(class_1)*0.5)/math.sqrt(len(class_1)*0.5*0.5)\n",
    "print \"test statistic is: \" + str(p1_stat)"
   ]
  },
  {
   "cell_type": "markdown",
   "metadata": {},
   "source": [
    "Under significance level of 0.5%, we can get the critical to reject the null hypothesis:"
   ]
  },
  {
   "cell_type": "code",
   "execution_count": 8,
   "metadata": {
    "collapsed": false
   },
   "outputs": [
    {
     "name": "stdout",
     "output_type": "stream",
     "text": [
      "2.57582930355\n"
     ]
    }
   ],
   "source": [
    "import scipy.stats as st\n",
    "print st.norm.ppf(.995)"
   ]
  },
  {
   "cell_type": "markdown",
   "metadata": {},
   "source": [
    "Since the test statistic is much higher than the critical value, so we can reject the null hypothesis with 99.5% confidence. In other words, a person in 1st class had possibilty larger than 0.5 to survive."
   ]
  },
  {
   "cell_type": "markdown",
   "metadata": {},
   "source": [
    "Similarly, we can assume people's survival status in 3rd class is of Bernoulli distribution, with parameter p_3. In other words, a person in 3rd class had possibility of p_3 to survive and (1 - p_3) to not survive. Then we can have the following one-tailed hypothesis:\n",
    "\n",
    "H<sub>0</sub>: p_3 >= 0.5\n",
    "\n",
    "H<sub>1</sub>: p_3 < 0.5\n",
    "\n",
    "Since the sample size is large, so the total number of survival people in 3rd class is approximately normally distributed with mean (n_3 \\* p_3) and standard deviation sqrt(n_3 \\* p_3 \\* (1-p_3)), where n_3 is the sample size.\n",
    "\n",
    "Suppose Y_3 is the actual number of survival people in 3rd class, then we can calculate our test statistic (Y_3 - n_3 \\* 0.5)/sqrt(n_3 \\* 0.5 \\* (1-0.5)):"
   ]
  },
  {
   "cell_type": "code",
   "execution_count": 9,
   "metadata": {
    "collapsed": false
   },
   "outputs": [
    {
     "name": "stdout",
     "output_type": "stream",
     "text": [
      "test statistic is: -11.4177301649\n"
     ]
    }
   ],
   "source": [
    "class_3 = df['Survived'][df['Pclass']==3]\n",
    "p3_stat = (class_3.sum() - len(class_3)*0.5)/math.sqrt(len(class_3)*0.5*0.5)\n",
    "print \"test statistic is: \" + str(p3_stat)"
   ]
  },
  {
   "cell_type": "markdown",
   "metadata": {},
   "source": [
    "Under significance level of 0.5%, we can get the critical to reject the null hypothesis:"
   ]
  },
  {
   "cell_type": "code",
   "execution_count": 10,
   "metadata": {
    "collapsed": false
   },
   "outputs": [
    {
     "name": "stdout",
     "output_type": "stream",
     "text": [
      "-2.57582930355\n"
     ]
    }
   ],
   "source": [
    "print st.norm.ppf(.005)"
   ]
  },
  {
   "cell_type": "markdown",
   "metadata": {},
   "source": [
    "Since the test statistic is much lower than the critical value, so we can reject the null hypothesis with 99.5% confidence. In other words, a person in 3rd class had possibilty smaller than 0.5 to survive."
   ]
  },
  {
   "cell_type": "markdown",
   "metadata": {},
   "source": [
    "From the plots and statistical analyses above, we could see that people in higher class had larger possibility to survive. However, we can only tell the correlation but not the causation. Actually, there are many possible explanations: maybe higher class was equipped with better emergency facilities; maybe people in higher class were taught more about how to save life in sea; maybe higher class was not so crowded so that people were easier to evacuate. There is no clear evidence to tell if it is the passenger class that differentiates the survival rate."
   ]
  },
  {
   "cell_type": "markdown",
   "metadata": {},
   "source": [
    "#### 2.2. Exploration: survival status and sex"
   ]
  },
  {
   "cell_type": "markdown",
   "metadata": {},
   "source": [
    "To look into the dependent variable \"Sex\", We can make a histogram as below."
   ]
  },
  {
   "cell_type": "code",
   "execution_count": 11,
   "metadata": {
    "collapsed": false
   },
   "outputs": [
    {
     "name": "stdout",
     "output_type": "stream",
     "text": [
      "Amount of female people: 314\n",
      "Amount of male people: 577\n"
     ]
    },
    {
     "data": {
      "text/plain": [
       "([<matplotlib.axis.XTick at 0x119954290>,\n",
       "  <matplotlib.axis.XTick at 0x119b2c750>],\n",
       " <a list of 2 Text xticklabel objects>)"
      ]
     },
     "execution_count": 11,
     "metadata": {},
     "output_type": "execute_result"
    },
    {
     "data": {
      "image/png": "[encoded data removed]",
      "text/plain": [
       "<matplotlib.figure.Figure at 0x1041430d0>"
      ]
     },
     "metadata": {},
     "output_type": "display_data"
    }
   ],
   "source": [
    "print \"Amount of female people: \" + str(sum(df['Sex'] == 0))\n",
    "print \"Amount of male people: \" + str(sum(df['Sex'] == 1))\n",
    "people_by_sex = df.groupby('Sex').size().reset_index()\n",
    "sns.barplot(data = people_by_sex, x = 'Sex', y = 0)\n",
    "plt.ylabel('People Counts')\n",
    "plt.xlabel('')\n",
    "plt.title('People in each gender')\n",
    "plt.xticks([0, 1], ['female', 'male'])"
   ]
  },
  {
   "cell_type": "markdown",
   "metadata": {},
   "source": [
    "In the plot above, 0 stands for female and 1 stands for male.\n",
    "\n",
    "In the sample, 314 people were female and 577 people were male. Most people were male in the sample. Male amount was almost twice the female amount."
   ]
  },
  {
   "cell_type": "markdown",
   "metadata": {},
   "source": [
    "To study the survival rate in each gender, we can group people by gender and calculate the survival rate in each gender."
   ]
  },
  {
   "cell_type": "code",
   "execution_count": 12,
   "metadata": {
    "collapsed": false
   },
   "outputs": [
    {
     "name": "stdout",
     "output_type": "stream",
     "text": [
      "Sex\n",
      "0    0.742038\n",
      "1    0.188908\n",
      "Name: Survived, dtype: float64\n"
     ]
    }
   ],
   "source": [
    "survival_by_sex = df['Survived'].groupby(df['Sex']).mean()\n",
    "print survival_by_sex"
   ]
  },
  {
   "cell_type": "markdown",
   "metadata": {},
   "source": [
    "In the result above, 0 stands for female and 1 stands for male.\n",
    "\n",
    "The result is very impressing. It shows that female had a survival rate around 74%, and male had a survival rate merely around 19%. It seems that female people were way more likely to survive in the accident."
   ]
  },
  {
   "cell_type": "markdown",
   "metadata": {},
   "source": [
    "We can better see this phenomenon by plotting the survival rate of each gender as below."
   ]
  },
  {
   "cell_type": "code",
   "execution_count": 13,
   "metadata": {
    "collapsed": false
   },
   "outputs": [
    {
     "data": {
      "text/plain": [
       "([<matplotlib.axis.XTick at 0x119b37cd0>,\n",
       "  <matplotlib.axis.XTick at 0x119b2c890>],\n",
       " <a list of 2 Text xticklabel objects>)"
      ]
     },
     "execution_count": 13,
     "metadata": {},
     "output_type": "execute_result"
    },
    {
     "data": {
      "image/png": "[encoded data removed]",
      "text/plain": [
       "<matplotlib.figure.Figure at 0x119b52950>"
      ]
     },
     "metadata": {},
     "output_type": "display_data"
    }
   ],
   "source": [
    "df1_sex = pd.DataFrame({'Sex': [0, 1], 'Survived': survival_by_sex})\n",
    "df2_sex = pd.DataFrame({'Sex': [0, 1], 'Not Survived': 1 - survival_by_sex})\n",
    "frames_sex = df1_sex.merge(df2_sex, how=\"left\")\n",
    "frames_sex[['Survived', 'Not Survived']].plot(kind='bar', stacked=True).legend(bbox_to_anchor=(1.3, 1))\n",
    "plt.ylabel('Percentage')\n",
    "plt.title('Survival rate of each gender')\n",
    "plt.xticks([0, 1], ['female', 'male'])"
   ]
  },
  {
   "cell_type": "markdown",
   "metadata": {},
   "source": [
    "In the plot above, 0 stands for female and 1 stands for male."
   ]
  },
  {
   "cell_type": "markdown",
   "metadata": {},
   "source": [
    "To further check if females had higher survival rate, we can make some hypothesis tests. Assume female people's survival status is of Bernoulli distribution, with parameter p_0. In other words, a female had possibility of p_0 to survive and (1 - p_0) to not survive. Then we can have the following one-tailed hypothesis:\n",
    "\n",
    "H<sub>0</sub>: p_0 <= 0.5\n",
    "\n",
    "H<sub>1</sub>: p_0 > 0.5\n",
    "\n",
    "Since the sample size is large, so the total number of survival females is approximately normally distributed with mean (n_0 \\* p_0) and standard deviation sqrt(n_0 \\* p_0 \\* (1-p_0)), where n_0 is the sample size.\n",
    "\n",
    "Suppose Y_0 is the actual number of survival females, then we can calculate our test statistic (Y_0 - n_0 \\* 0.5)/sqrt(n_0 \\* 0.5 \\* (1-0.5)):"
   ]
  },
  {
   "cell_type": "code",
   "execution_count": 14,
   "metadata": {
    "collapsed": false
   },
   "outputs": [
    {
     "name": "stdout",
     "output_type": "stream",
     "text": [
      "test statistic is: 8.57785624934\n"
     ]
    }
   ],
   "source": [
    "sex_0 = df['Survived'][df['Sex']==0]\n",
    "p0_stat = (sex_0.sum() - len(sex_0)*0.5)/math.sqrt(len(sex_0)*0.5*0.5)\n",
    "print \"test statistic is: \" + str(p0_stat)"
   ]
  },
  {
   "cell_type": "markdown",
   "metadata": {},
   "source": [
    "Under significance level of 0.5%, we can get the critical to reject the null hypothesis:"
   ]
  },
  {
   "cell_type": "code",
   "execution_count": 15,
   "metadata": {
    "collapsed": false
   },
   "outputs": [
    {
     "name": "stdout",
     "output_type": "stream",
     "text": [
      "2.57582930355\n"
     ]
    }
   ],
   "source": [
    "print st.norm.ppf(.995)"
   ]
  },
  {
   "cell_type": "markdown",
   "metadata": {},
   "source": [
    "Since the test statistic is much higher than the critical value, so we can reject the null hypothesis with 99.5% confidence. In other words, a female had possibilty larger than 0.5 to survive."
   ]
  },
  {
   "cell_type": "markdown",
   "metadata": {},
   "source": [
    "Similarly, we can assume male people's survival status is of Bernoulli distribution, with parameter p_1. In other words, a male had possibility of p_1 to survive and (1 - p_1) to not survive. Then we can have the following one-tailed hypothesis:\n",
    "\n",
    "H<sub>0</sub>: p_1 >= 0.5\n",
    "\n",
    "H<sub>1</sub>: p_1 < 0.5\n",
    "\n",
    "Since the sample size is large, so the total number of survival males is approximately normally distributed with mean (n_1 \\* p_1) and standard deviation sqrt(n_1 \\* p_1 \\* (1-p_1)), where n_1 is the sample size.\n",
    "\n",
    "Suppose Y_1 is the actual number of survival males, then we can calculate our test statistic (Y_1 - n_1 \\* 0.5)/sqrt(n_1 \\* 0.5 \\* (1-0.5)):"
   ]
  },
  {
   "cell_type": "code",
   "execution_count": 16,
   "metadata": {
    "collapsed": false
   },
   "outputs": [
    {
     "name": "stdout",
     "output_type": "stream",
     "text": [
      "test statistic is: -14.9453655517\n"
     ]
    }
   ],
   "source": [
    "sex_1 = df['Survived'][df['Sex']==1]\n",
    "p1_stat = (sex_1.sum() - len(sex_1)*0.5)/math.sqrt(len(sex_1)*0.5*0.5)\n",
    "print \"test statistic is: \" + str(p1_stat)"
   ]
  },
  {
   "cell_type": "markdown",
   "metadata": {},
   "source": [
    "Under significance level of 0.5%, we can get the critical to reject the null hypothesis:"
   ]
  },
  {
   "cell_type": "code",
   "execution_count": 17,
   "metadata": {
    "collapsed": false
   },
   "outputs": [
    {
     "name": "stdout",
     "output_type": "stream",
     "text": [
      "-2.57582930355\n"
     ]
    }
   ],
   "source": [
    "print st.norm.ppf(.005)"
   ]
  },
  {
   "cell_type": "markdown",
   "metadata": {},
   "source": [
    "Since the test statistic is much lower than the critical value, so we can reject the null hypothesis with 99.5% confidence. In other words, a male had possibilty smaller than 0.5 to survive."
   ]
  },
  {
   "cell_type": "markdown",
   "metadata": {},
   "source": [
    "From the plots and statistical analyses above, we could see that females had larger possibility to survive. However, we can not say the gender cause the higher possibility to survive. Actually, there are many possible explanations: maybe females were sent to lifeboats earlier than males; maybe males were mostly helping to rescue others; maybe most males were located in certain parts of the ship that were more dangerous when the accident happend. There is no clear evidence to tell if it is the gender that differentiates the survival rate."
   ]
  },
  {
   "cell_type": "markdown",
   "metadata": {},
   "source": [
    "#### 2.3. Exploration: survival status and age"
   ]
  },
  {
   "cell_type": "markdown",
   "metadata": {},
   "source": [
    "To look into the dependent variable \"Age\", We can make a histogram as below."
   ]
  },
  {
   "cell_type": "code",
   "execution_count": 18,
   "metadata": {
    "collapsed": false
   },
   "outputs": [
    {
     "name": "stdout",
     "output_type": "stream",
     "text": [
      "Max age is: 80.0\n",
      "Min age is: 0.42\n",
      "Mean age is: 29.6991176471\n"
     ]
    },
    {
     "data": {
      "text/plain": [
       "<matplotlib.text.Text at 0x119fe41d0>"
      ]
     },
     "execution_count": 18,
     "metadata": {},
     "output_type": "execute_result"
    },
    {
     "data": {
      "image/png": "[encoded data removed]",
      "text/plain": [
       "<matplotlib.figure.Figure at 0x119c0bb90>"
      ]
     },
     "metadata": {},
     "output_type": "display_data"
    }
   ],
   "source": [
    "print \"Max age is: \" + str(df_age['Age'].max())\n",
    "print \"Min age is: \" + str(df_age['Age'].min())\n",
    "print \"Mean age is: \" + str(df_age['Age'].mean())\n",
    "\n",
    "plt.hist(df_age['Age'], [5*x for x in range(0,20)])\n",
    "plt.title(\"Histogram of age\")"
   ]
  },
  {
   "cell_type": "markdown",
   "metadata": {},
   "source": [
    "In the sample, most people were around 20 to 30. It is also noticable that there were many kids under 5, but not so many people older than 60."
   ]
  },
  {
   "cell_type": "markdown",
   "metadata": {},
   "source": [
    "To study the how different the ages were between people who survived and people who did not, we can group people by survival status and check the age distribution in each class."
   ]
  },
  {
   "cell_type": "code",
   "execution_count": 19,
   "metadata": {
    "collapsed": false
   },
   "outputs": [],
   "source": [
    "age_survived = df_age['Age'][df_age['Survived']==1]\n",
    "age_not_survived = df_age['Age'][df_age['Survived']==0]"
   ]
  },
  {
   "cell_type": "markdown",
   "metadata": {},
   "source": [
    "This histogram of age of people survived is shown below."
   ]
  },
  {
   "cell_type": "code",
   "execution_count": 20,
   "metadata": {
    "collapsed": false
   },
   "outputs": [
    {
     "data": {
      "text/plain": [
       "<matplotlib.text.Text at 0x11a1b0dd0>"
      ]
     },
     "execution_count": 20,
     "metadata": {},
     "output_type": "execute_result"
    },
    {
     "data": {
      "image/png": "[encoded data removed]",
      "text/plain": [
       "<matplotlib.figure.Figure at 0x1006342d0>"
      ]
     },
     "metadata": {},
     "output_type": "display_data"
    }
   ],
   "source": [
    "plt.hist(age_survived, [5*x for x in range(0,20)])\n",
    "plt.title(\"Histogram of age of people survived\")"
   ]
  },
  {
   "cell_type": "markdown",
   "metadata": {},
   "source": [
    "This histogram of age of people not survived is shown below."
   ]
  },
  {
   "cell_type": "code",
   "execution_count": 21,
   "metadata": {
    "collapsed": false
   },
   "outputs": [
    {
     "data": {
      "text/plain": [
       "<matplotlib.text.Text at 0x11a5ce1d0>"
      ]
     },
     "execution_count": 21,
     "metadata": {},
     "output_type": "execute_result"
    },
    {
     "data": {
      "image/png": "[encoded data removed]",
      "text/plain": [
       "<matplotlib.figure.Figure at 0x1192a2f90>"
      ]
     },
     "metadata": {},
     "output_type": "display_data"
    }
   ],
   "source": [
    "plt.hist(age_not_survived, [5*x for x in range(0,20)])\n",
    "plt.title(\"Histogram of age of people not survived\")"
   ]
  },
  {
   "cell_type": "markdown",
   "metadata": {},
   "source": [
    "From the two histograms above, we can see overall their shapes are close, but clearly kids under 5 standed out in people who survived. Maybe kids under 5 were easier to find space to stay on lifeboats, or maybe they cried out so loud that they were easier to be found and rescued. There are many possible reasons why they made a larger portion in people who survived, but we could not draw the conclusion that it is their younger age that made them more likely to survive."
   ]
  },
  {
   "cell_type": "markdown",
   "metadata": {},
   "source": [
    "### 3. Conclusions"
   ]
  },
  {
   "cell_type": "markdown",
   "metadata": {},
   "source": [
    "From the plots and statistical analyses above, we could draw following conclusions to answer the questions at the beginning of this project:\n",
    "\n",
    "- People in higher passenger class were more likely to survive\n",
    "- Females were more likely to survive than males\n",
    "- Distributions of age are very close between people who survived and people who did not survive, but kids under 5 were of a higher portion in people who survived\n",
    "\n",
    "However, these conclusions are only describing the correlation instead of the causation. It is not true that you would for sure to have a higher chance to survive if you were an under-5-year-old little girl who were of 1st class in the accident."
   ]
  },
  {
   "cell_type": "markdown",
   "metadata": {},
   "source": [
    "### 4. References"
   ]
  },
  {
   "cell_type": "markdown",
   "metadata": {},
   "source": [
    "1. https://www.kaggle.com/c/titanic/data\n",
    "2. https://classroom.udacity.com/courses/ud170\n",
    "3. Wes McKinney. 2013. *Python for Data Analysis.* Sebastopol, CA: O'Reilly Media\n",
    "4. http://docs.scipy.org/doc/scipy-0.17.0/reference/generated/scipy.stats.norm.html\n",
    "5. http://www.math.uah.edu/stat/hypothesis/Bernoulli.html"
   ]
  }
 ],
 "metadata": {
  "kernelspec": {
   "display_name": "Python 2",
   "language": "python",
   "name": "python2"
  },
  "language_info": {
   "codemirror_mode": {
    "name": "ipython",
    "version": 2
   },
   "file_extension": ".py",
   "mimetype": "text/x-python",
   "name": "python",
   "nbconvert_exporter": "python",
   "pygments_lexer": "ipython2",
   "version": "2.7.11"
  }
 },
 "nbformat": 4,
 "nbformat_minor": 0
}
